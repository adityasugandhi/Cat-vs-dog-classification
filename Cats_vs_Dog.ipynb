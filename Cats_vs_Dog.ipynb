{
  "nbformat": 4,
  "nbformat_minor": 0,
  "metadata": {
    "accelerator": "GPU",
    "colab": {
      "name": "Cats vs Dog.ipynb",
      "provenance": [],
      "collapsed_sections": [],
      "toc_visible": true,
      "include_colab_link": true
    },
    "kernelspec": {
      "display_name": "Python 3",
      "name": "python3"
    }
  },
  "cells": [
    {
      "cell_type": "markdown",
      "metadata": {
        "id": "view-in-github",
        "colab_type": "text"
      },
      "source": [
        "<a href=\"https://colab.research.google.com/github/adityasugandhi/Cat-vs-dog-classification/blob/master/Cats_vs_Dog.ipynb\" target=\"_parent\"><img src=\"https://colab.research.google.com/assets/colab-badge.svg\" alt=\"Open In Colab\"/></a>"
      ]
    },
    {
      "cell_type": "markdown",
      "metadata": {
        "colab_type": "text",
        "id": "rX8mhOLljYeM"
      },
      "source": [
        "##### Copyright 2019 The TensorFlow Authors."
      ]
    },
    {
      "cell_type": "code",
      "metadata": {
        "cellView": "form",
        "colab_type": "code",
        "id": "BZSlp3DAjdYf",
        "colab": {}
      },
      "source": [
        "#@title Licensed under the Apache License, Version 2.0 (the \"License\");\n",
        "# you may not use this file except in compliance with the License.\n",
        "# You may obtain a copy of the License at\n",
        "#\n",
        "# https://www.apache.org/licenses/LICENSE-2.0\n",
        "#\n",
        "# Unless required by applicable law or agreed to in writing, software\n",
        "# distributed under the License is distributed on an \"AS IS\" BASIS,\n",
        "# WITHOUT WARRANTIES OR CONDITIONS OF ANY KIND, either express or implied.\n",
        "# See the License for the specific language governing permissions and\n",
        "# limitations under the License."
      ],
      "execution_count": null,
      "outputs": []
    },
    {
      "cell_type": "code",
      "metadata": {
        "colab_type": "code",
        "id": "RXZT2UsyIVe_",
        "colab": {
          "base_uri": "https://localhost:8080/",
          "height": 391
        },
        "outputId": "413492da-377c-4493-fd13-b532da10001b"
      },
      "source": [
        "!wget --no-check-certificate \\\n",
        "    https://storage.googleapis.com/laurencemoroney-blog.appspot.com/horse-or-human.zip \\\n",
        "    -O /tmp/horse-or-human.zip\n",
        "\n",
        "!wget --no-check-certificate \\\n",
        "    https://storage.googleapis.com/laurencemoroney-blog.appspot.com/validation-horse-or-human.zip \\\n",
        "    -O /tmp/validation-horse-or-human.zip\n",
        "  \n",
        "import os\n",
        "import zipfile\n",
        "\n",
        "local_zip = '/tmp/horse-or-human.zip'\n",
        "zip_ref = zipfile.ZipFile(local_zip, 'r')\n",
        "zip_ref.extractall('/tmp/horse-or-human')\n",
        "local_zip = '/tmp/validation-horse-or-human.zip'\n",
        "zip_ref = zipfile.ZipFile(local_zip, 'r')\n",
        "zip_ref.extractall('/tmp/validation-horse-or-human')\n",
        "zip_ref.close()\n",
        "# Directory with our training horse pictures\n",
        "train_horse_dir = os.path.join('/tmp/horse-or-human/horses')\n",
        "\n",
        "# Directory with our training human pictures\n",
        "train_human_dir = os.path.join('/tmp/horse-or-human/humans')\n",
        "\n",
        "# Directory with our training horse pictures\n",
        "validation_horse_dir = os.path.join('/tmp/validation-horse-or-human/horses')\n",
        "\n",
        "# Directory with our training human pictures\n",
        "validation_human_dir = os.path.join('/tmp/validation-horse-or-human/humans')"
      ],
      "execution_count": null,
      "outputs": [
        {
          "output_type": "stream",
          "text": [
            "--2020-09-18 06:09:24--  https://storage.googleapis.com/laurencemoroney-blog.appspot.com/horse-or-human.zip\n",
            "Resolving storage.googleapis.com (storage.googleapis.com)... 74.125.195.128, 74.125.28.128, 74.125.142.128, ...\n",
            "Connecting to storage.googleapis.com (storage.googleapis.com)|74.125.195.128|:443... connected.\n",
            "HTTP request sent, awaiting response... 200 OK\n",
            "Length: 149574867 (143M) [application/zip]\n",
            "Saving to: ‘/tmp/horse-or-human.zip’\n",
            "\n",
            "/tmp/horse-or-human 100%[===================>] 142.65M   113MB/s    in 1.3s    \n",
            "\n",
            "2020-09-18 06:09:26 (113 MB/s) - ‘/tmp/horse-or-human.zip’ saved [149574867/149574867]\n",
            "\n",
            "--2020-09-18 06:09:26--  https://storage.googleapis.com/laurencemoroney-blog.appspot.com/validation-horse-or-human.zip\n",
            "Resolving storage.googleapis.com (storage.googleapis.com)... 74.125.195.128, 74.125.142.128, 74.125.20.128, ...\n",
            "Connecting to storage.googleapis.com (storage.googleapis.com)|74.125.195.128|:443... connected.\n",
            "HTTP request sent, awaiting response... 200 OK\n",
            "Length: 11480187 (11M) [application/zip]\n",
            "Saving to: ‘/tmp/validation-horse-or-human.zip’\n",
            "\n",
            "/tmp/validation-hor 100%[===================>]  10.95M  45.1MB/s    in 0.2s    \n",
            "\n",
            "2020-09-18 06:09:26 (45.1 MB/s) - ‘/tmp/validation-horse-or-human.zip’ saved [11480187/11480187]\n",
            "\n"
          ],
          "name": "stdout"
        }
      ]
    },
    {
      "cell_type": "markdown",
      "metadata": {
        "colab_type": "text",
        "id": "5oqBkNBJmtUv"
      },
      "source": [
        "## Building a Small Model from Scratch\n",
        "\n",
        "But before we continue, let's start defining the model:\n",
        "\n",
        "Step 1 will be to import tensorflow."
      ]
    },
    {
      "cell_type": "code",
      "metadata": {
        "colab_type": "code",
        "id": "qvfZg3LQbD-5",
        "colab": {}
      },
      "source": [
        "import tensorflow as tf"
      ],
      "execution_count": null,
      "outputs": []
    },
    {
      "cell_type": "markdown",
      "metadata": {
        "colab_type": "text",
        "id": "BnhYCP4tdqjC"
      },
      "source": [
        "We then add convolutional layers as in the previous example, and flatten the final result to feed into the densely connected layers."
      ]
    },
    {
      "cell_type": "markdown",
      "metadata": {
        "colab_type": "text",
        "id": "gokG5HKpdtzm"
      },
      "source": [
        "Finally we add the densely connected layers. \n",
        "\n",
        "Note that because we are facing a two-class classification problem, i.e. a *binary classification problem*, we will end our network with a [*sigmoid* activation](https://wikipedia.org/wiki/Sigmoid_function), so that the output of our network will be a single scalar between 0 and 1, encoding the probability that the current image is class 1 (as opposed to class 0)."
      ]
    },
    {
      "cell_type": "code",
      "metadata": {
        "colab_type": "code",
        "id": "PixZ2s5QbYQ3",
        "colab": {}
      },
      "source": [
        "model = tf.keras.models.Sequential([\n",
        "    # Note the input shape is the desired size of the image 300x300 with 3 bytes color\n",
        "    # This is the first convolution\n",
        "    tf.keras.layers.Conv2D(16, (3,3), activation='relu', input_shape=(300, 300, 3)),\n",
        "    tf.keras.layers.MaxPooling2D(2, 2),\n",
        "    # The second convolution\n",
        "    tf.keras.layers.Conv2D(32, (3,3), activation='relu'),\n",
        "    tf.keras.layers.MaxPooling2D(2,2),\n",
        "    # The third convolution\n",
        "    tf.keras.layers.Conv2D(64, (3,3), activation='relu'),\n",
        "    tf.keras.layers.MaxPooling2D(2,2),\n",
        "    # The fourth convolution\n",
        "    tf.keras.layers.Conv2D(64, (3,3), activation='relu'),\n",
        "    tf.keras.layers.MaxPooling2D(2,2),\n",
        "    # The fifth convolution\n",
        "    tf.keras.layers.Conv2D(64, (3,3), activation='relu'),\n",
        "    tf.keras.layers.MaxPooling2D(2,2),\n",
        "    # Flatten the results to feed into a DNN\n",
        "    tf.keras.layers.Flatten(),\n",
        "    # 512 neuron hidden layer\n",
        "    tf.keras.layers.Dense(512, activation='relu'),\n",
        "    # Only 1 output neuron. It will contain a value from 0-1 where 0 for 1 class ('horses') and 1 for the other ('humans')\n",
        "    tf.keras.layers.Dense(1, activation='sigmoid')\n",
        "])"
      ],
      "execution_count": null,
      "outputs": []
    },
    {
      "cell_type": "code",
      "metadata": {
        "colab_type": "code",
        "id": "8DHWhFP_uhq3",
        "colab": {}
      },
      "source": [
        "from tensorflow.keras.optimizers import RMSprop\n",
        "\n",
        "model.compile(loss='binary_crossentropy',\n",
        "              optimizer=RMSprop(lr=1e-4),\n",
        "              metrics=['accuracy'])"
      ],
      "execution_count": null,
      "outputs": []
    },
    {
      "cell_type": "code",
      "metadata": {
        "colab_type": "code",
        "id": "ClebU9NJg99G",
        "colab": {
          "base_uri": "https://localhost:8080/",
          "height": 51
        },
        "outputId": "223e520a-486e-4b09-b690-7d1bebecc995"
      },
      "source": [
        "from tensorflow.keras.preprocessing.image import ImageDataGenerator\n",
        "\n",
        "# All images will be rescaled by 1./255\n",
        "train_datagen = ImageDataGenerator(\n",
        "      rescale=1./255,\n",
        "      rotation_range=40,\n",
        "      width_shift_range=0.2,\n",
        "      height_shift_range=0.2,\n",
        "      shear_range=0.2,\n",
        "      zoom_range=0.2,\n",
        "      horizontal_flip=True,\n",
        "      fill_mode='nearest')\n",
        "\n",
        "validation_datagen = ImageDataGenerator(rescale=1/255)\n",
        "\n",
        "# Flow training images in batches of 128 using train_datagen generator\n",
        "train_generator = train_datagen.flow_from_directory(\n",
        "        '/tmp/horse-or-human/',  # This is the source directory for training images\n",
        "        target_size=(300, 300),  # All images will be resized to 150x150\n",
        "        batch_size=128,\n",
        "        # Since we use binary_crossentropy loss, we need binary labels\n",
        "        class_mode='binary')\n",
        "\n",
        "# Flow training images in batches of 128 using train_datagen generator\n",
        "validation_generator = validation_datagen.flow_from_directory(\n",
        "        '/tmp/validation-horse-or-human/',  # This is the source directory for training images\n",
        "        target_size=(300, 300),  # All images will be resized to 150x150\n",
        "        batch_size=32,\n",
        "        # Since we use binary_crossentropy loss, we need binary labels\n",
        "        class_mode='binary')"
      ],
      "execution_count": null,
      "outputs": [
        {
          "output_type": "stream",
          "text": [
            "Found 1027 images belonging to 2 classes.\n",
            "Found 256 images belonging to 2 classes.\n"
          ],
          "name": "stdout"
        }
      ]
    },
    {
      "cell_type": "code",
      "metadata": {
        "colab_type": "code",
        "id": "Fb1_lgobv81m",
        "colab": {
          "base_uri": "https://localhost:8080/",
          "height": 1000
        },
        "outputId": "5438d7f6-2f27-4f10-9489-65e5836ae7c7"
      },
      "source": [
        "history = model.fit(\n",
        "      train_generator,\n",
        "      steps_per_epoch=8,  \n",
        "      epochs=200,\n",
        "      verbose=1,\n",
        "      validation_data = validation_generator,\n",
        "      validation_steps=8)"
      ],
      "execution_count": null,
      "outputs": [
        {
          "output_type": "stream",
          "text": [
            "Epoch 1/200\n",
            "2/8 [======>.......................] - ETA: 0s - loss: 0.6829 - accuracy: 0.5469WARNING:tensorflow:Callbacks method `on_train_batch_end` is slow compared to the batch time (batch time: 0.0624s vs `on_train_batch_end` time: 0.1101s). Check your callbacks.\n",
            "8/8 [==============================] - 19s 2s/step - loss: 0.6919 - accuracy: 0.5342 - val_loss: 0.6806 - val_accuracy: 0.5000\n",
            "Epoch 2/200\n",
            "8/8 [==============================] - 19s 2s/step - loss: 0.6746 - accuracy: 0.5951 - val_loss: 0.6862 - val_accuracy: 0.5000\n",
            "Epoch 3/200\n",
            "8/8 [==============================] - 19s 2s/step - loss: 0.6611 - accuracy: 0.6062 - val_loss: 0.6470 - val_accuracy: 0.5312\n",
            "Epoch 4/200\n",
            "8/8 [==============================] - 21s 3s/step - loss: 0.6303 - accuracy: 0.6741 - val_loss: 0.5850 - val_accuracy: 0.7695\n",
            "Epoch 5/200\n",
            "8/8 [==============================] - 21s 3s/step - loss: 0.5989 - accuracy: 0.7108 - val_loss: 0.7107 - val_accuracy: 0.5195\n",
            "Epoch 6/200\n",
            "8/8 [==============================] - 19s 2s/step - loss: 0.5890 - accuracy: 0.7175 - val_loss: 0.7940 - val_accuracy: 0.5078\n",
            "Epoch 7/200\n",
            "8/8 [==============================] - 22s 3s/step - loss: 0.5615 - accuracy: 0.7486 - val_loss: 0.7145 - val_accuracy: 0.5430\n",
            "Epoch 8/200\n",
            "8/8 [==============================] - 19s 2s/step - loss: 0.5550 - accuracy: 0.7286 - val_loss: 0.9350 - val_accuracy: 0.5078\n",
            "Epoch 9/200\n",
            "8/8 [==============================] - 19s 2s/step - loss: 0.5323 - accuracy: 0.7353 - val_loss: 0.4119 - val_accuracy: 0.8867\n",
            "Epoch 10/200\n",
            "8/8 [==============================] - 19s 2s/step - loss: 0.5683 - accuracy: 0.7097 - val_loss: 0.7435 - val_accuracy: 0.5625\n",
            "Epoch 11/200\n",
            "8/8 [==============================] - 19s 2s/step - loss: 0.5143 - accuracy: 0.7542 - val_loss: 0.7401 - val_accuracy: 0.5703\n",
            "Epoch 12/200\n",
            "8/8 [==============================] - 21s 3s/step - loss: 0.4999 - accuracy: 0.7734 - val_loss: 0.9190 - val_accuracy: 0.5391\n",
            "Epoch 13/200\n",
            "8/8 [==============================] - 19s 2s/step - loss: 0.5430 - accuracy: 0.7308 - val_loss: 0.9427 - val_accuracy: 0.5352\n",
            "Epoch 14/200\n",
            "8/8 [==============================] - 19s 2s/step - loss: 0.4892 - accuracy: 0.7664 - val_loss: 0.9535 - val_accuracy: 0.5469\n",
            "Epoch 15/200\n",
            "8/8 [==============================] - 19s 2s/step - loss: 0.4755 - accuracy: 0.7909 - val_loss: 0.9080 - val_accuracy: 0.5781\n",
            "Epoch 16/200\n",
            "8/8 [==============================] - 19s 2s/step - loss: 0.4622 - accuracy: 0.7853 - val_loss: 1.0507 - val_accuracy: 0.5508\n",
            "Epoch 17/200\n",
            "8/8 [==============================] - 22s 3s/step - loss: 0.4477 - accuracy: 0.8031 - val_loss: 0.9748 - val_accuracy: 0.5938\n",
            "Epoch 18/200\n",
            "8/8 [==============================] - 19s 2s/step - loss: 0.4208 - accuracy: 0.8065 - val_loss: 1.4064 - val_accuracy: 0.5312\n",
            "Epoch 19/200\n",
            "8/8 [==============================] - 19s 2s/step - loss: 0.4623 - accuracy: 0.7942 - val_loss: 0.9449 - val_accuracy: 0.6133\n",
            "Epoch 20/200\n",
            "8/8 [==============================] - 19s 2s/step - loss: 0.4467 - accuracy: 0.7864 - val_loss: 0.8533 - val_accuracy: 0.6250\n",
            "Epoch 21/200\n",
            "8/8 [==============================] - 22s 3s/step - loss: 0.4022 - accuracy: 0.8291 - val_loss: 1.0710 - val_accuracy: 0.6055\n",
            "Epoch 22/200\n",
            "8/8 [==============================] - 19s 2s/step - loss: 0.4272 - accuracy: 0.8031 - val_loss: 1.1526 - val_accuracy: 0.5977\n",
            "Epoch 23/200\n",
            "8/8 [==============================] - 19s 2s/step - loss: 0.3823 - accuracy: 0.8354 - val_loss: 0.8876 - val_accuracy: 0.6875\n",
            "Epoch 24/200\n",
            "8/8 [==============================] - 19s 2s/step - loss: 0.3853 - accuracy: 0.8254 - val_loss: 1.7540 - val_accuracy: 0.5508\n",
            "Epoch 25/200\n",
            "8/8 [==============================] - 19s 2s/step - loss: 0.3788 - accuracy: 0.8176 - val_loss: 1.4124 - val_accuracy: 0.5742\n",
            "Epoch 26/200\n",
            "8/8 [==============================] - 19s 2s/step - loss: 0.4350 - accuracy: 0.8042 - val_loss: 1.0788 - val_accuracy: 0.6055\n",
            "Epoch 27/200\n",
            "8/8 [==============================] - 22s 3s/step - loss: 0.3907 - accuracy: 0.8331 - val_loss: 1.2241 - val_accuracy: 0.5938\n",
            "Epoch 28/200\n",
            "8/8 [==============================] - 19s 2s/step - loss: 0.3844 - accuracy: 0.8276 - val_loss: 1.1381 - val_accuracy: 0.5938\n",
            "Epoch 29/200\n",
            "8/8 [==============================] - 19s 2s/step - loss: 0.3225 - accuracy: 0.8776 - val_loss: 1.4466 - val_accuracy: 0.5820\n",
            "Epoch 30/200\n",
            "8/8 [==============================] - 19s 2s/step - loss: 0.3898 - accuracy: 0.8365 - val_loss: 1.2240 - val_accuracy: 0.5859\n",
            "Epoch 31/200\n",
            "8/8 [==============================] - 19s 2s/step - loss: 0.3084 - accuracy: 0.8710 - val_loss: 1.7789 - val_accuracy: 0.5547\n",
            "Epoch 32/200\n",
            "8/8 [==============================] - 19s 2s/step - loss: 0.5166 - accuracy: 0.8198 - val_loss: 1.9604 - val_accuracy: 0.5430\n",
            "Epoch 33/200\n",
            "8/8 [==============================] - 19s 2s/step - loss: 0.3189 - accuracy: 0.8643 - val_loss: 1.5297 - val_accuracy: 0.5977\n",
            "Epoch 34/200\n",
            "8/8 [==============================] - 19s 2s/step - loss: 0.3723 - accuracy: 0.8454 - val_loss: 1.6937 - val_accuracy: 0.5625\n",
            "Epoch 35/200\n",
            "8/8 [==============================] - 19s 2s/step - loss: 0.3508 - accuracy: 0.8565 - val_loss: 1.5916 - val_accuracy: 0.5938\n",
            "Epoch 36/200\n",
            "8/8 [==============================] - 19s 2s/step - loss: 0.4125 - accuracy: 0.8287 - val_loss: 1.3462 - val_accuracy: 0.6055\n",
            "Epoch 37/200\n",
            "8/8 [==============================] - 19s 2s/step - loss: 0.2699 - accuracy: 0.9010 - val_loss: 1.4271 - val_accuracy: 0.6250\n",
            "Epoch 38/200\n",
            "8/8 [==============================] - 22s 3s/step - loss: 0.2896 - accuracy: 0.8721 - val_loss: 1.5835 - val_accuracy: 0.6055\n",
            "Epoch 39/200\n",
            "8/8 [==============================] - 22s 3s/step - loss: 0.3513 - accuracy: 0.8476 - val_loss: 1.8318 - val_accuracy: 0.5781\n",
            "Epoch 40/200\n",
            "8/8 [==============================] - 20s 2s/step - loss: 0.2648 - accuracy: 0.8999 - val_loss: 2.3976 - val_accuracy: 0.5430\n",
            "Epoch 41/200\n",
            "8/8 [==============================] - 20s 2s/step - loss: 0.3542 - accuracy: 0.8476 - val_loss: 1.2819 - val_accuracy: 0.6523\n",
            "Epoch 42/200\n",
            "8/8 [==============================] - 19s 2s/step - loss: 0.2571 - accuracy: 0.8921 - val_loss: 2.6888 - val_accuracy: 0.5430\n",
            "Epoch 43/200\n",
            "8/8 [==============================] - 19s 2s/step - loss: 0.2654 - accuracy: 0.8932 - val_loss: 1.6771 - val_accuracy: 0.6055\n",
            "Epoch 44/200\n",
            "8/8 [==============================] - 20s 2s/step - loss: 0.3925 - accuracy: 0.8276 - val_loss: 1.5151 - val_accuracy: 0.6133\n",
            "Epoch 45/200\n",
            "8/8 [==============================] - 19s 2s/step - loss: 0.2595 - accuracy: 0.8877 - val_loss: 1.5084 - val_accuracy: 0.6406\n",
            "Epoch 46/200\n",
            "8/8 [==============================] - 19s 2s/step - loss: 0.2316 - accuracy: 0.9066 - val_loss: 2.9855 - val_accuracy: 0.5195\n",
            "Epoch 47/200\n",
            "3/8 [==========>...................] - ETA: 10s - loss: 0.3528 - accuracy: 0.8333"
          ],
          "name": "stdout"
        }
      ]
    },
    {
      "cell_type": "code",
      "metadata": {
        "colab_type": "code",
        "id": "7zNPRWOVJdOH",
        "colab": {}
      },
      "source": [
        "import matplotlib.pyplot as plt\n",
        "acc = history.history['accuracy']\n",
        "val_acc = history.history['val_accuracy']\n",
        "loss = history.history['loss']\n",
        "val_loss = history.history['val_loss']\n",
        "\n",
        "epochs = range(len(acc))\n",
        "\n",
        "plt.plot(epochs, acc, 'r', label='Training accuracy')\n",
        "plt.plot(epochs, val_acc, 'b', label='Validation accuracy')\n",
        "plt.title('Training and validation accuracy')\n",
        "\n",
        "plt.figure()\n",
        "\n",
        "plt.plot(epochs, loss, 'r', label='Training Loss')\n",
        "plt.plot(epochs, val_loss, 'b', label='Validation Loss')\n",
        "plt.title('Training and validation loss')\n",
        "plt.legend()\n",
        "\n",
        "plt.show()"
      ],
      "execution_count": null,
      "outputs": []
    }
  ]
}